{
 "cells": [
  {
   "cell_type": "code",
   "execution_count": 1,
   "id": "01e45a8d",
   "metadata": {},
   "outputs": [],
   "source": [
    "import requests\n",
    "import datetime\n",
    "import threading\n",
    "import pandas as pd"
   ]
  },
  {
   "cell_type": "code",
   "execution_count": 2,
   "id": "53f54297",
   "metadata": {},
   "outputs": [],
   "source": [
    "'''\n",
    "import custom module 'access.py'\n",
    "to access your own API token and log in\n",
    "\n",
    "$ cat access.py \n",
    "MY_KEY = \"Bearer xxxxxxxxxxxxxxxxxxxxxxxxxxxxxxxxxxxxxxxxxxxxxxxxx\"\n",
    "\n",
    "'''\n",
    "\n",
    "import access\n",
    "API_KEY = access.MY_KEY"
   ]
  },
  {
   "cell_type": "code",
   "execution_count": 3,
   "id": "adf33b6d",
   "metadata": {},
   "outputs": [],
   "source": [
    "'''\n",
    "set empty python dictionary to store data\n",
    "'''\n",
    "\n",
    "data = {'ip': [],\n",
    "       'location': [],\n",
    "       'connected_time': []}"
   ]
  },
  {
   "cell_type": "code",
   "execution_count": 4,
   "id": "1518420d",
   "metadata": {},
   "outputs": [],
   "source": [
    "def snapshot():\n",
    "    \n",
    "    headers = {'Authorization': API_KEY}   \n",
    "    res = requests.get('https://streaming.lahmacun.hu/api/station/1/listeners', headers=headers)\n",
    "    results = res.json()\n",
    "    # print('current listeners:', len(results))\n",
    "    \n",
    "    for listener in results:\n",
    "        \n",
    "        connected_time = listener['connected_time']\n",
    "        connected_time = datetime.timedelta(seconds=connected_time)\n",
    "        ip = listener['ip']\n",
    "        if listener['location']['status'] == 'error':\n",
    "            loc = 'N/A'\n",
    "        else:\n",
    "            loc = listener['location']['country']\n",
    "        \n",
    "        if ip in data['ip']:\n",
    "            i = data['ip'].index(ip)\n",
    "            if connected_time >= data['connected_time'][i][-1][1]:\n",
    "                data['connected_time'][i][-1][1] = connected_time\n",
    "            else:\n",
    "                data['connected_time'][i].append([datetime.datetime.now(), connected_time])                \n",
    "        else: \n",
    "            data['ip'].append(ip)\n",
    "            data['location'].append(loc)\n",
    "            data['connected_time'].append([[datetime.datetime.now(), connected_time]])"
   ]
  },
  {
   "cell_type": "code",
   "execution_count": 9,
   "id": "b027c248",
   "metadata": {},
   "outputs": [
    {
     "data": {
      "text/plain": [
       "{'ip': ['192.168.176.6'],\n",
       " 'location': ['N/A'],\n",
       " 'connected_time': [[[datetime.datetime(2021, 11, 1, 15, 9, 42, 899628),\n",
       "    datetime.timedelta(seconds=34615)],\n",
       "   [datetime.datetime(2021, 11, 1, 15, 9, 42, 899643),\n",
       "    datetime.timedelta(seconds=34645)],\n",
       "   [datetime.datetime(2021, 11, 1, 15, 10, 12, 904031),\n",
       "    datetime.timedelta(seconds=34675)],\n",
       "   [datetime.datetime(2021, 11, 1, 15, 10, 42, 945853),\n",
       "    datetime.timedelta(seconds=34705)],\n",
       "   [datetime.datetime(2021, 11, 1, 15, 11, 12, 916061),\n",
       "    datetime.timedelta(seconds=34735)],\n",
       "   [datetime.datetime(2021, 11, 1, 15, 11, 42, 917705),\n",
       "    datetime.timedelta(seconds=34759)],\n",
       "   [datetime.datetime(2021, 11, 1, 15, 12, 6, 384232),\n",
       "    datetime.timedelta(seconds=2389)]]]}"
      ]
     },
     "metadata": {},
     "output_type": "display_data"
    }
   ],
   "source": [
    "'''\n",
    "monitoring/debugging\n",
    "'''\n",
    "\n",
    "snapshot()\n",
    "display(data)"
   ]
  },
  {
   "cell_type": "code",
   "execution_count": 6,
   "id": "a1875888",
   "metadata": {},
   "outputs": [],
   "source": [
    "'''\n",
    "-> populates/updates 'data' dictionary every 30 seconds\n",
    "'''\n",
    "\n",
    "def autoFetch():\n",
    "    threading.Timer(30.0, autoFetch).start()\n",
    "    snapshot()\n",
    "    # df = pd.DataFrame(data)\n",
    "    # display(df)"
   ]
  },
  {
   "cell_type": "code",
   "execution_count": 7,
   "id": "b81b429d",
   "metadata": {},
   "outputs": [],
   "source": [
    "'''\n",
    "-> exports a snapshot of 'data' dictionary every n hours\n",
    "'''\n",
    "\n",
    "def autoExport(n = 1):\n",
    "    due = n * 3600.0\n",
    "    threading.Timer(due, autoExport).start()\n",
    "    timestamp = datetime.datetime.now()\n",
    "    df = pd.DataFrame(data)\n",
    "    df.to_csv('lahmacun_' + str(timestamp) + '.csv')"
   ]
  },
  {
   "cell_type": "code",
   "execution_count": 8,
   "id": "7c136172",
   "metadata": {},
   "outputs": [],
   "source": [
    "autoFetch()\n",
    "autoExport(4) # exports every 4 hours"
   ]
  }
 ],
 "metadata": {
  "kernelspec": {
   "display_name": "Python 3 (ipykernel)",
   "language": "python",
   "name": "python3"
  },
  "language_info": {
   "codemirror_mode": {
    "name": "ipython",
    "version": 3
   },
   "file_extension": ".py",
   "mimetype": "text/x-python",
   "name": "python",
   "nbconvert_exporter": "python",
   "pygments_lexer": "ipython3",
   "version": "3.9.6"
  }
 },
 "nbformat": 4,
 "nbformat_minor": 5
}
